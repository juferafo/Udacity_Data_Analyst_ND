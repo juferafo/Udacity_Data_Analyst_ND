{
 "cells": [
  {
   "cell_type": "markdown",
   "metadata": {
    "collapsed": true
   },
   "source": [
    "# Project: Wrangle Open Street Map data"
   ]
  },
  {
   "cell_type": "markdown",
   "metadata": {
    "collapsed": true
   },
   "source": [
    "In this project I wrangle and extract information from an Open Street Map database (OSM). I chose to analyze the region of Cambridgeshire because Cambridge is a charming town with beautiful surroundings that I enjoyed so much. \n",
    "\n",
    "I worked with the full data set available in [Geofabrik](https://download.geofabrik.de/europe/great-britain/england/cambridgeshire.html). Since the uncompressed OSM file has a weight of 70 Mb the most reasonable way to clean and process the data is programmatically. I employed the code written during the \"Case Study: OpenStreetMap Data [SQL]\" lesson as starting point. Several modifications and improvements were added to the code such as the ```clean.py``` and ```create_db.py``` scripts which were used to correct the data and produce the database ```Cambridge.db``` respectively. \n",
    "\n",
    "The OSM dataset is formed by two different elements: nodes and ways. Briefly, a node represents a particular point in the map characterized by latitude and longitude (among other attributes). It can just mark a point in the map with no content or describe some element/s of interest (for example, a building). In the latter case, the node will contain child tags formed by a pair of key and value which detail the properties of the node (for example, the different fields of the address). \n",
    "\n",
    "This is an example of a node taken from ```Cambridge.osm```. It shows the geographic position (latitude, longitude) of a traffic signal in a highway."
   ]
  },
  {
   "cell_type": "markdown",
   "metadata": {},
   "source": [
    "```xml\n",
    "<node id=\"104521\" lat=\"52.2035316\" lon=\"0.123448\" version=\"1\">\n",
    "    <tag k=\"highway\" v=\"traffic_signals\"/>\n",
    "```"
   ]
  },
  {
   "cell_type": "markdown",
   "metadata": {
    "collapsed": true
   },
   "source": [
    "On the other hand, ways are a collection of nodes that can be visualized, for example, as a path in the map area. The child tag elements <span style=\"color:green\">nd</span> list all the nodes in the way, whereas the tags reflect information about different fields. For example, this way represents a highway with speed limit of 70 mph (among other details)."
   ]
  },
  {
   "cell_type": "markdown",
   "metadata": {},
   "source": [
    "```xml\n",
    "<way id=\"1881406\" version=\"1\">\n",
    "    <nd ref=\"608754\"/>\n",
    "    <nd ref=\"620848\"/>\n",
    "    ...\n",
    "    <tag k=\"oneway\" v=\"yes\"/>\n",
    "    <tag k=\"highway\" v=\"trunk\"/>\n",
    "    <tag k=\"maxspeed\" v=\"70 mph\"/>\n",
    "    <tag k=\"operator\" v=\"Highways England\"/>\n",
    "    ...\n",
    "</way>\n",
    "```"
   ]
  },
  {
   "cell_type": "markdown",
   "metadata": {},
   "source": [
    "This project is organized as follows: in Section 1 I provide a description of the problems found in the dataset and explain how they were corrected. In Section 2 I perform SQL queries on the clean data which are intended to get specific information from the data. Finally, I conclude in Section 3 summarizing the data wrangling and proposing several improvements to this work."
   ]
  },
  {
   "cell_type": "markdown",
   "metadata": {
    "collapsed": true
   },
   "source": [
    "## Section 1:   Problems in the original dataset \n",
    "\n",
    "The OSM dataset contains a lot of human entered data. It is normal then to encounter uncomplete data or errors in some fields. A quick look to the OSM file revealed the following problems:\n",
    "\n",
    "* Tags with non ascii characters\n",
    "* Non uniform key value format\n",
    "* Wrong postal codes\n",
    "* Telephone number format\n",
    "* Recycling amenity format\n",
    "* Wrong names or non uniform word abbreviations\n",
    "\n",
    "Due to the size of the OSM data file it is not possible to read all the  content at once. In order to avoid memory problems we use the ```xml.etree.cElementT``` module to read one tag at a time. The cleaning process is done element by element and it is implemented in the ```shape_element``` definition in ```process_data.py```, where the methods from ```clean.py``` are used to address the aforementioned problems. \n",
    "\n",
    "After this is done, the data is stored in csv files as follows: for the nodes, we separate the information about the nodes attributes (written in ```nodes.csv```) from the nodes child tags (written in ```nodes_tags.csv```); for the ways, there is an extra file with the extra file ```ways_nodes.csv``` which lists the nodes contained in the paths. In addition, the each csv file is double-checked with the ```validate_element``` method (by default is set to False due to the computation time) to ensure that there is no missing data or errors in the structure. The corresponding schemas of the output files can be found in ```schema.py```. Finally the csv files are merged in the ```Cambridge.db``` database with ```create_db.py``` for the later SQL analysis.\n",
    "\n",
    "### Tags with non ASCII characters\n",
    "\n",
    "The ```Cambridge.osm``` file is encoded with UTF-8. In principle, this would not represent any problem but I decided to restrict the encoding to ASCII for the sake of simplicity (I can not understand data written written, for example, Russian or Chineese characters). To do so, first I identified the tags with non-ASCII symbols and, if possible, I subtituted them with close characters. For example: \"ä\" is converted into \"ae\" and \"\\`\" is converted to \"'\". Those tags in which this is not possible are removed. This correction implemented with the ```audit_nonascii``` definition writen in the ```clean.py``` script."
   ]
  },
  {
   "cell_type": "markdown",
   "metadata": {
    "collapsed": true
   },
   "source": [
    "### Non uniform  key value formats\n",
    "\n",
    "As explained before, the child tags contain relevant information about a particular node or way. The field key labels a particular attribute, like address or amenity, and the field value contains its information. The problem with this arises when keys representing the same field do not have the same format, like \"postal_code\" and \"postcode\" or they present the data in a non-intuitive way, like the following node\n"
   ]
  },
  {
   "cell_type": "markdown",
   "metadata": {},
   "source": [
    "```xml\n",
    "<node id=\"20922173\" lat=\"52.2072198\" lon=\"0.1219277\" version=\"1\">\n",
    "    <tag k=\"name\" v=\"d&#39;Arry&#39;s Liquor Loft and Restaurant\"/>\n",
    "    <tag k=\"amenity\" v=\"pub\"/>\n",
    "    <tag k=\"fhrs:id\" v=\"506819\"/>\n",
    "    <tag k=\"website\" v=\"http://www.darrys.co.uk\"/>\n",
    "    <tag k=\"old_name\" v=\"Cambridge Arms\"/>\n",
    "    <tag k=\"addr:city\" v=\"Cambridge\"/>\n",
    "    <tag k=\"addr:street\" v=\"King Street\"/>\n",
    "    <tag k=\"source:addr\" v=\"FHRS Open Data\"/>\n",
    "    <tag k=\"addr:postcode\" v=\"CB1 1LN\"/>\n",
    "    <tag k=\"addr:housenumber\" v=\"2-4\"/>\n",
    "```"
   ]
  },
  {
   "cell_type": "markdown",
   "metadata": {
    "collapsed": true
   },
   "source": [
    "As we can see, the keys of the information related to the address have the format \"< source > : < field >\". To make the access to the data more friendly, I split the original key field value into two parts and updated the key value with \"< field >\". A new element called type was created to store the remaining \"< source >\" value. This is implemented automaticaly while reading the data in ```process_data.py```."
   ]
  },
  {
   "cell_type": "markdown",
   "metadata": {},
   "source": [
    "### Wrong Postal Codes\n",
    "\n",
    "The [postal codes](https://en.wikipedia.org/wiki/CB_postcode_area) in the Cambridgeshire area are formed by two blocks: the first one is composed by the letters CB followed by a number (1-11) or (21-25), whereas the second one is a combination of three characters (letters and/or numbers). This variable was stored in the OSM data under the key label \"postal_code\" or \"postcode\". I corrected this by setting \"postal_code\" as key. Also, those postal codes with missing/extra numbers were eliminated from the dataset. The ```c_pc``` definition in the ```clean.py``` was coded for this purpose."
   ]
  },
  {
   "cell_type": "markdown",
   "metadata": {},
   "source": [
    "### Telephone number format\n",
    "\n",
    "I also found problems with the format of the telephone numbers. Some of them included the country calling code prefix +44, while other missed it and had the trunk prefix 0 instead  of having the numbers grouped in different ways. I fixed this by arranging the format number into +44XXXXXXXXXX. Those with missing/extra digits were eliminated from the dataset. This is implemented with the ```c_telephone``` definition in the ```clean.py``` script."
   ]
  },
  {
   "cell_type": "markdown",
   "metadata": {},
   "source": [
    "### Recicling amenity format\n",
    "\n",
    "Some nodes represented buildings/places which child tags contained information about waste management. Even when the data seemed to be correct, it was difficult to read due to the amount of recycling items considered. I grouped these elements into five groups: plastic, tin, glass, paper and general. The definition ```c_recycling``` in ```clean.py``` takes care of this errors."
   ]
  },
  {
   "cell_type": "markdown",
   "metadata": {},
   "source": [
    "### Wrong names or non uniform word abbreviations\n",
    "\n",
    "I also found that some words had different abbreviations or were spelled incorrectly. I correct this with the ```c_tagstr``` definition in ```clean.py``` script."
   ]
  },
  {
   "cell_type": "markdown",
   "metadata": {},
   "source": [
    "## Section 2: Quering data with SQL\n",
    "\n",
    "Once the OSM is parsed, corrected and stored into the csv files one can think about getting information from it. To do so, the output files are stored into a database (Cambdridge.db). This was implemented with the ```create_db.py``` script making use of the pandas method [```DataFrame.to_sql```](https://pandas.pydata.org/pandas-docs/stable/generated/pandas.DataFrame.to_sql.html). I chose SQL as the query language to get results from the database."
   ]
  },
  {
   "cell_type": "code",
   "execution_count": 7,
   "metadata": {},
   "outputs": [
    {
     "name": "stdout",
     "output_type": "stream",
     "text": [
      "The sql extension is already loaded. To reload it, use:\n",
      "  %reload_ext sql\n"
     ]
    },
    {
     "data": {
      "text/plain": [
       "u'Connected: None@Cambridge.db'"
      ]
     },
     "execution_count": 7,
     "metadata": {},
     "output_type": "execute_result"
    }
   ],
   "source": [
    "# LOAD SQL MODULE \n",
    "%load_ext sql\n",
    "# LOAD Cambdridge.db DATABASE\n",
    "%sql sqlite:///Cambridge.db"
   ]
  },
  {
   "cell_type": "markdown",
   "metadata": {},
   "source": [
    "I performed the following queries in order to obtain a general idea about some fields in the database. They are also formulated as questions to improve the readability of the report.\n",
    "\n",
    "* How many nodes/ways are there in the database?\n",
    "\n",
    "As we can see from the queries below, the number of nodes and ways in the dataset are 528955 and 97429 respectively."
   ]
  },
  {
   "cell_type": "code",
   "execution_count": 8,
   "metadata": {},
   "outputs": [
    {
     "name": "stdout",
     "output_type": "stream",
     "text": [
      "Done.\n"
     ]
    },
    {
     "data": {
      "text/html": [
       "<table>\n",
       "    <tr>\n",
       "        <th>Number of Nodes</th>\n",
       "    </tr>\n",
       "    <tr>\n",
       "        <td>528955</td>\n",
       "    </tr>\n",
       "</table>"
      ],
      "text/plain": [
       "[(528955,)]"
      ]
     },
     "execution_count": 8,
     "metadata": {},
     "output_type": "execute_result"
    }
   ],
   "source": [
    "%sql select count(*) as \"Number of Nodes\" from nodes;"
   ]
  },
  {
   "cell_type": "code",
   "execution_count": 9,
   "metadata": {},
   "outputs": [
    {
     "name": "stdout",
     "output_type": "stream",
     "text": [
      "Done.\n"
     ]
    },
    {
     "data": {
      "text/html": [
       "<table>\n",
       "    <tr>\n",
       "        <th>Number of Ways</th>\n",
       "    </tr>\n",
       "    <tr>\n",
       "        <td>97429</td>\n",
       "    </tr>\n",
       "</table>"
      ],
      "text/plain": [
       "[(97429,)]"
      ]
     },
     "execution_count": 9,
     "metadata": {},
     "output_type": "execute_result"
    }
   ],
   "source": [
    "%sql select count(*) as \"Number of Ways\" from ways;"
   ]
  },
  {
   "cell_type": "markdown",
   "metadata": {},
   "source": [
    "* Which are the most common amenities?\n",
    "\n",
    "We can search in the data for the elements with \"amenity\" as key and then grouping their corresponding values. The query below shows the top 10 amenities present in the nodes_tags dataset."
   ]
  },
  {
   "cell_type": "code",
   "execution_count": 10,
   "metadata": {
    "scrolled": true
   },
   "outputs": [
    {
     "name": "stdout",
     "output_type": "stream",
     "text": [
      "Done.\n"
     ]
    },
    {
     "data": {
      "text/html": [
       "<table>\n",
       "    <tr>\n",
       "        <th>number of amenities</th>\n",
       "        <th>value</th>\n",
       "    </tr>\n",
       "    <tr>\n",
       "        <td>848</td>\n",
       "        <td>bicycle_parking</td>\n",
       "    </tr>\n",
       "    <tr>\n",
       "        <td>518</td>\n",
       "        <td>bench</td>\n",
       "    </tr>\n",
       "    <tr>\n",
       "        <td>358</td>\n",
       "        <td>post_box</td>\n",
       "    </tr>\n",
       "    <tr>\n",
       "        <td>296</td>\n",
       "        <td>parking</td>\n",
       "    </tr>\n",
       "    <tr>\n",
       "        <td>148</td>\n",
       "        <td>restaurant</td>\n",
       "    </tr>\n",
       "    <tr>\n",
       "        <td>123</td>\n",
       "        <td>cafe</td>\n",
       "    </tr>\n",
       "    <tr>\n",
       "        <td>97</td>\n",
       "        <td>recycling</td>\n",
       "    </tr>\n",
       "    <tr>\n",
       "        <td>90</td>\n",
       "        <td>fast_food</td>\n",
       "    </tr>\n",
       "    <tr>\n",
       "        <td>77</td>\n",
       "        <td>pub</td>\n",
       "    </tr>\n",
       "    <tr>\n",
       "        <td>50</td>\n",
       "        <td>telephone</td>\n",
       "    </tr>\n",
       "</table>"
      ],
      "text/plain": [
       "[(848, u'bicycle_parking'),\n",
       " (518, u'bench'),\n",
       " (358, u'post_box'),\n",
       " (296, u'parking'),\n",
       " (148, u'restaurant'),\n",
       " (123, u'cafe'),\n",
       " (97, u'recycling'),\n",
       " (90, u'fast_food'),\n",
       " (77, u'pub'),\n",
       " (50, u'telephone')]"
      ]
     },
     "execution_count": 10,
     "metadata": {},
     "output_type": "execute_result"
    }
   ],
   "source": [
    "%%sql \n",
    "select count(*) as \"number of amenities\", nodes_tags.value \n",
    "from nodes_tags where nodes_tags.key=\"amenity\" \n",
    "group by nodes_tags.value \n",
    "order by \"number of amenities\" desc limit 10;"
   ]
  },
  {
   "cell_type": "markdown",
   "metadata": {},
   "source": [
    "* How many places of worship are there? and which are the top 10 major religion confessions/denominations?\n",
    "\n",
    "Querying the places of worship is done in the same way than the previous question but this time the answer is completely different from the nodes_tags and ways_tags tables. The nodes_tags only contains information about christian and muslim religions, while the ways_tags query displays more information: Christian, Jewish, Buddhist... The data appears to be different since the Mulsim religion only has one mosque instead of the two shown in the nodes_tags table. However, the answer for the first question is the same, the christian religion is a majority in this dataset in terms of places of worship."
   ]
  },
  {
   "cell_type": "code",
   "execution_count": 11,
   "metadata": {},
   "outputs": [
    {
     "name": "stdout",
     "output_type": "stream",
     "text": [
      "Done.\n"
     ]
    },
    {
     "data": {
      "text/html": [
       "<table>\n",
       "    <tr>\n",
       "        <th>count(*)</th>\n",
       "        <th>index</th>\n",
       "        <th>id</th>\n",
       "        <th>key</th>\n",
       "        <th>value</th>\n",
       "        <th>type</th>\n",
       "    </tr>\n",
       "    <tr>\n",
       "        <td>9</td>\n",
       "        <td>102035</td>\n",
       "        <td>4209178250</td>\n",
       "        <td>religion</td>\n",
       "        <td>christian</td>\n",
       "        <td>regular</td>\n",
       "    </tr>\n",
       "    <tr>\n",
       "        <td>2</td>\n",
       "        <td>33012</td>\n",
       "        <td>1343651837</td>\n",
       "        <td>religion</td>\n",
       "        <td>muslim</td>\n",
       "        <td>regular</td>\n",
       "    </tr>\n",
       "</table>"
      ],
      "text/plain": [
       "[(9, 102035, 4209178250, u'religion', u'christian', u'regular'),\n",
       " (2, 33012, 1343651837, u'religion', u'muslim', u'regular')]"
      ]
     },
     "execution_count": 11,
     "metadata": {},
     "output_type": "execute_result"
    }
   ],
   "source": [
    "%%sql \n",
    "select count(*), *\n",
    "from nodes_tags where nodes_tags.key=\"religion\"\n",
    "group by nodes_tags.value;"
   ]
  },
  {
   "cell_type": "code",
   "execution_count": 12,
   "metadata": {},
   "outputs": [
    {
     "name": "stdout",
     "output_type": "stream",
     "text": [
      "Done.\n"
     ]
    },
    {
     "data": {
      "text/html": [
       "<table>\n",
       "    <tr>\n",
       "        <th>number</th>\n",
       "        <th>value</th>\n",
       "    </tr>\n",
       "    <tr>\n",
       "        <td>167</td>\n",
       "        <td>christian</td>\n",
       "    </tr>\n",
       "    <tr>\n",
       "        <td>3</td>\n",
       "        <td>jewish</td>\n",
       "    </tr>\n",
       "    <tr>\n",
       "        <td>1</td>\n",
       "        <td>buddhist</td>\n",
       "    </tr>\n",
       "    <tr>\n",
       "        <td>1</td>\n",
       "        <td>hindu</td>\n",
       "    </tr>\n",
       "    <tr>\n",
       "        <td>1</td>\n",
       "        <td>muslim</td>\n",
       "    </tr>\n",
       "    <tr>\n",
       "        <td>1</td>\n",
       "        <td>sikh</td>\n",
       "    </tr>\n",
       "    <tr>\n",
       "        <td>1</td>\n",
       "        <td>unitarian</td>\n",
       "    </tr>\n",
       "</table>"
      ],
      "text/plain": [
       "[(167, u'christian'),\n",
       " (3, u'jewish'),\n",
       " (1, u'buddhist'),\n",
       " (1, u'hindu'),\n",
       " (1, u'muslim'),\n",
       " (1, u'sikh'),\n",
       " (1, u'unitarian')]"
      ]
     },
     "execution_count": 12,
     "metadata": {},
     "output_type": "execute_result"
    }
   ],
   "source": [
    "%%sql \n",
    "select count(*) as \"number\", ways_tags.value from ways_tags\n",
    "where ways_tags.key = \"religion\"\n",
    "group by ways_tags.value\n",
    "order by \"number\" desc;"
   ]
  },
  {
   "cell_type": "markdown",
   "metadata": {},
   "source": [
    "To answer the second question I considered querying the ways_tags table since it contains more religions which seems a more complete data for this field. As expected in England, the Anglican church represents the majority of the religious confessions."
   ]
  },
  {
   "cell_type": "code",
   "execution_count": 14,
   "metadata": {},
   "outputs": [
    {
     "name": "stdout",
     "output_type": "stream",
     "text": [
      "Done.\n"
     ]
    },
    {
     "data": {
      "text/html": [
       "<table>\n",
       "    <tr>\n",
       "        <th>number</th>\n",
       "        <th>value</th>\n",
       "    </tr>\n",
       "    <tr>\n",
       "        <td>89</td>\n",
       "        <td>anglican</td>\n",
       "    </tr>\n",
       "    <tr>\n",
       "        <td>15</td>\n",
       "        <td>baptist</td>\n",
       "    </tr>\n",
       "    <tr>\n",
       "        <td>9</td>\n",
       "        <td>methodist</td>\n",
       "    </tr>\n",
       "    <tr>\n",
       "        <td>6</td>\n",
       "        <td>united_reformed</td>\n",
       "    </tr>\n",
       "    <tr>\n",
       "        <td>3</td>\n",
       "        <td>catholic</td>\n",
       "    </tr>\n",
       "    <tr>\n",
       "        <td>3</td>\n",
       "        <td>independent</td>\n",
       "    </tr>\n",
       "    <tr>\n",
       "        <td>2</td>\n",
       "        <td>roman_catholic</td>\n",
       "    </tr>\n",
       "    <tr>\n",
       "        <td>2</td>\n",
       "        <td>salvation_army</td>\n",
       "    </tr>\n",
       "    <tr>\n",
       "        <td>1</td>\n",
       "        <td>Dominican</td>\n",
       "    </tr>\n",
       "    <tr>\n",
       "        <td>1</td>\n",
       "        <td>Jewish</td>\n",
       "    </tr>\n",
       "</table>"
      ],
      "text/plain": [
       "[(89, u'anglican'),\n",
       " (15, u'baptist'),\n",
       " (9, u'methodist'),\n",
       " (6, u'united_reformed'),\n",
       " (3, u'catholic'),\n",
       " (3, u'independent'),\n",
       " (2, u'roman_catholic'),\n",
       " (2, u'salvation_army'),\n",
       " (1, u'Dominican'),\n",
       " (1, u'Jewish')]"
      ]
     },
     "execution_count": 14,
     "metadata": {},
     "output_type": "execute_result"
    }
   ],
   "source": [
    "%%sql \n",
    "select count(*) as \"number\", ways_tags.value from ways_tags\n",
    "where ways_tags.key = \"denomination\"\n",
    "group by ways_tags.value\n",
    "order by \"number\" desc limit 10;"
   ]
  },
  {
   "cell_type": "markdown",
   "metadata": {
    "collapsed": true
   },
   "source": [
    "* How many rubbish bins/recycling places are there? and for what type of garbage (glass, plastic...) are there more rubbish bins available?\n",
    "\n",
    "To answer the first question we need to look for elements with \"recycling\" as tag value in the nodes_tags table. We find a total of 97 entries."
   ]
  },
  {
   "cell_type": "code",
   "execution_count": 15,
   "metadata": {},
   "outputs": [
    {
     "name": "stdout",
     "output_type": "stream",
     "text": [
      "Done.\n"
     ]
    },
    {
     "data": {
      "text/html": [
       "<table>\n",
       "    <tr>\n",
       "        <th>count(*)</th>\n",
       "    </tr>\n",
       "    <tr>\n",
       "        <td>97</td>\n",
       "    </tr>\n",
       "</table>"
      ],
      "text/plain": [
       "[(97,)]"
      ]
     },
     "execution_count": 15,
     "metadata": {},
     "output_type": "execute_result"
    }
   ],
   "source": [
    "%%sql \n",
    "select count(*) from nodes_tags\n",
    "where nodes_tags.key = \"amenity\" and nodes_tags.value = \"recycling\";"
   ]
  },
  {
   "cell_type": "raw",
   "metadata": {},
   "source": [
    "Investigating the different recycling categories we find that the most recycled item is glass followed by paper, plastic and general. Of course this gives us only an idea of the amount available places for processing garbage and we can not take this numbers as a real statistic of waste management."
   ]
  },
  {
   "cell_type": "code",
   "execution_count": 16,
   "metadata": {},
   "outputs": [
    {
     "name": "stdout",
     "output_type": "stream",
     "text": [
      "Done.\n"
     ]
    },
    {
     "data": {
      "text/html": [
       "<table>\n",
       "    <tr>\n",
       "        <th>counts</th>\n",
       "        <th>key</th>\n",
       "    </tr>\n",
       "    <tr>\n",
       "        <td>34</td>\n",
       "        <td>glass</td>\n",
       "    </tr>\n",
       "    <tr>\n",
       "        <td>29</td>\n",
       "        <td>paper</td>\n",
       "    </tr>\n",
       "    <tr>\n",
       "        <td>19</td>\n",
       "        <td>plastic</td>\n",
       "    </tr>\n",
       "    <tr>\n",
       "        <td>16</td>\n",
       "        <td>general</td>\n",
       "    </tr>\n",
       "    <tr>\n",
       "        <td>8</td>\n",
       "        <td>tin</td>\n",
       "    </tr>\n",
       "    <tr>\n",
       "        <td>6</td>\n",
       "        <td>batteries</td>\n",
       "    </tr>\n",
       "</table>"
      ],
      "text/plain": [
       "[(34, u'glass'),\n",
       " (29, u'paper'),\n",
       " (19, u'plastic'),\n",
       " (16, u'general'),\n",
       " (8, u'tin'),\n",
       " (6, u'batteries')]"
      ]
     },
     "execution_count": 16,
     "metadata": {},
     "output_type": "execute_result"
    }
   ],
   "source": [
    "%%sql \n",
    "select count(*) as \"counts\", nodes_tags.key from nodes_tags\n",
    "where nodes_tags.type = \"recycling\" and nodes_tags.value = \"yes\"\n",
    "group by nodes_tags.key \n",
    "order by \"counts\" desc;"
   ]
  },
  {
   "cell_type": "markdown",
   "metadata": {},
   "source": [
    "## Conclusions \n",
    "\n",
    "During this project we have parsed an OSM file with human-entered data. In order to extract some meaningful information about the dataset we looked for inconsistencies/errors in the dataset. Once this was done, we programmatically corrected the data and stored it in a database. In order to get an insight of it, SQL queries were performed to investigate such things as: number of nodes/ways, religion denominations and temples of worship, amenities and recycling places.\n",
    "\n",
    "## Improvements to this work\n",
    "\n",
    "Perhaps the better improvement that one could do to this work is to parse and correct every field of every way and node. By doing this, we will ensure that we have all the data in a uniform format. To standardize every field programmatically would represent a really considerably effort. One would have to write at least one python method per field to do this. For the OSM employed in this work this would mean 381 methods to account all the keys only present in the nodes child tags."
   ]
  },
  {
   "cell_type": "code",
   "execution_count": 17,
   "metadata": {},
   "outputs": [
    {
     "name": "stdout",
     "output_type": "stream",
     "text": [
      "Done.\n"
     ]
    },
    {
     "data": {
      "text/html": [
       "<table>\n",
       "    <tr>\n",
       "        <th>Different nodes tags</th>\n",
       "    </tr>\n",
       "    <tr>\n",
       "        <td>381</td>\n",
       "    </tr>\n",
       "</table>"
      ],
      "text/plain": [
       "[(381,)]"
      ]
     },
     "execution_count": 17,
     "metadata": {},
     "output_type": "execute_result"
    }
   ],
   "source": [
    "%sql select count(distinct nodes_tags.key) as \"Different nodes tags\" from nodes_tags;"
   ]
  },
  {
   "cell_type": "markdown",
   "metadata": {},
   "source": [
    "Also, the method ```c_tagstr``` in ```clean.py``` would have to be extended to check the sintax of every relevant word in the dataset (keys and values of the child tags). Notice that in this work we only corrected a few fields that I notice while studying the data base. Detect all the possible mistakes in so many fields would represent a challenge. \n",
    "\n",
    "If the latter improvement can be achieved, we could extract the complete standarized  information from the data set and with SQL or other query languages we could get information about the whole area. One could extend the results presented in this project to obtain information about any field. Statistics about stablishments, highways, etc..."
   ]
  },
  {
   "cell_type": "markdown",
   "metadata": {},
   "source": [
    "## Bibliography\n",
    "\n",
    "Throughout this work I found very helpfull the following sources, both for the development of the codes and to write the report. \n",
    "\n",
    "* https://regex101.com\n",
    "* https://wiki.openstreetmap.org/wiki/OSM_XML\n",
    "* https://github.com/jkarakas/Wrangle-OpenStreetMaps-Data-with-SQL\n",
    "* https://gist.github.com/carlward/54ec1c91b62a5f911c42#file-sample_project-md\n",
    "* https://discussions.udacity.com/c/nd002-data-wrangling/nd002-p-wrangle-openstreetmaps-data-with-sql"
   ]
  }
 ],
 "metadata": {
  "kernelspec": {
   "display_name": "Python 2",
   "language": "python",
   "name": "python2"
  },
  "language_info": {
   "codemirror_mode": {
    "name": "ipython",
    "version": 2
   },
   "file_extension": ".py",
   "mimetype": "text/x-python",
   "name": "python",
   "nbconvert_exporter": "python",
   "pygments_lexer": "ipython2",
   "version": "2.7.13"
  }
 },
 "nbformat": 4,
 "nbformat_minor": 2
}
